{
 "cells": [
  {
   "cell_type": "markdown",
   "metadata": {
    "id": "MxkbHD2WwGyB"
   },
   "source": [
    "## Data Science Intern at LetsGrowMore for December2021\n",
    "\n",
    "## Author :- Dhaval Sunil Tharkar\n",
    "\n",
    "## Task :- 1.2) Stock Market Prediction And Forecasting Using Stacked LSTM\n",
    "\n",
    "Level :- Beginner\n",
    "\n",
    "Language :- Python\n",
    "\n",
    "Software :- Jupyter Notebook\n",
    "\n",
    "Dataset Link :- https://raw.githubusercontent.com/mwitiderrick/stockprice/master/NSE-TATAGLOBAL.csv\n"
   ]
  },
  {
   "cell_type": "markdown",
   "metadata": {
    "id": "Kw9vvHD4wnnO"
   },
   "source": [
    "**Importing Required Libraries**"
   ]
  },
  {
   "cell_type": "code",
   "execution_count": 1,
   "metadata": {
    "id": "CkL1NCX3qNsS"
   },
   "outputs": [],
   "source": [
    "import numpy as np\n",
    "import pandas as pd\n",
    "import matplotlib.pyplot as plt\n",
    "import tensorflow as tf\n",
    "from sklearn.preprocessing import MinMaxScaler\n",
    "\n",
    "import warnings\n",
    "warnings.filterwarnings(\"ignore\")"
   ]
  },
  {
   "cell_type": "markdown",
   "metadata": {
    "id": "ZDRdIFb8wzFo"
   },
   "source": [
    "**Reading the Dataset**"
   ]
  },
  {
   "cell_type": "code",
   "execution_count": 2,
   "metadata": {
    "id": "utIiTUc6qdI4"
   },
   "outputs": [],
   "source": [
    "data = pd.read_csv(\"NSE-TATAGLOBAL.csv\")"
   ]
  },
  {
   "cell_type": "code",
   "execution_count": 3,
   "metadata": {
    "colab": {
     "base_uri": "https://localhost:8080/",
     "height": 206
    },
    "id": "-iF3jVDKrrY9",
    "outputId": "94a22f9b-5063-407d-81df-3b4a10a6710b"
   },
   "outputs": [
    {
     "data": {
      "text/html": [
       "<div>\n",
       "<style scoped>\n",
       "    .dataframe tbody tr th:only-of-type {\n",
       "        vertical-align: middle;\n",
       "    }\n",
       "\n",
       "    .dataframe tbody tr th {\n",
       "        vertical-align: top;\n",
       "    }\n",
       "\n",
       "    .dataframe thead th {\n",
       "        text-align: right;\n",
       "    }\n",
       "</style>\n",
       "<table border=\"1\" class=\"dataframe\">\n",
       "  <thead>\n",
       "    <tr style=\"text-align: right;\">\n",
       "      <th></th>\n",
       "      <th>Date</th>\n",
       "      <th>Open</th>\n",
       "      <th>High</th>\n",
       "      <th>Low</th>\n",
       "      <th>Last</th>\n",
       "      <th>Close</th>\n",
       "      <th>Total Trade Quantity</th>\n",
       "      <th>Turnover (Lacs)</th>\n",
       "    </tr>\n",
       "  </thead>\n",
       "  <tbody>\n",
       "    <tr>\n",
       "      <th>0</th>\n",
       "      <td>2018-09-28</td>\n",
       "      <td>234.05</td>\n",
       "      <td>235.95</td>\n",
       "      <td>230.20</td>\n",
       "      <td>233.50</td>\n",
       "      <td>233.75</td>\n",
       "      <td>3069914</td>\n",
       "      <td>7162.35</td>\n",
       "    </tr>\n",
       "    <tr>\n",
       "      <th>1</th>\n",
       "      <td>2018-09-27</td>\n",
       "      <td>234.55</td>\n",
       "      <td>236.80</td>\n",
       "      <td>231.10</td>\n",
       "      <td>233.80</td>\n",
       "      <td>233.25</td>\n",
       "      <td>5082859</td>\n",
       "      <td>11859.95</td>\n",
       "    </tr>\n",
       "    <tr>\n",
       "      <th>2</th>\n",
       "      <td>2018-09-26</td>\n",
       "      <td>240.00</td>\n",
       "      <td>240.00</td>\n",
       "      <td>232.50</td>\n",
       "      <td>235.00</td>\n",
       "      <td>234.25</td>\n",
       "      <td>2240909</td>\n",
       "      <td>5248.60</td>\n",
       "    </tr>\n",
       "    <tr>\n",
       "      <th>3</th>\n",
       "      <td>2018-09-25</td>\n",
       "      <td>233.30</td>\n",
       "      <td>236.75</td>\n",
       "      <td>232.00</td>\n",
       "      <td>236.25</td>\n",
       "      <td>236.10</td>\n",
       "      <td>2349368</td>\n",
       "      <td>5503.90</td>\n",
       "    </tr>\n",
       "    <tr>\n",
       "      <th>4</th>\n",
       "      <td>2018-09-24</td>\n",
       "      <td>233.55</td>\n",
       "      <td>239.20</td>\n",
       "      <td>230.75</td>\n",
       "      <td>234.00</td>\n",
       "      <td>233.30</td>\n",
       "      <td>3423509</td>\n",
       "      <td>7999.55</td>\n",
       "    </tr>\n",
       "  </tbody>\n",
       "</table>\n",
       "</div>"
      ],
      "text/plain": [
       "         Date    Open    High     Low    Last   Close  Total Trade Quantity  \\\n",
       "0  2018-09-28  234.05  235.95  230.20  233.50  233.75               3069914   \n",
       "1  2018-09-27  234.55  236.80  231.10  233.80  233.25               5082859   \n",
       "2  2018-09-26  240.00  240.00  232.50  235.00  234.25               2240909   \n",
       "3  2018-09-25  233.30  236.75  232.00  236.25  236.10               2349368   \n",
       "4  2018-09-24  233.55  239.20  230.75  234.00  233.30               3423509   \n",
       "\n",
       "   Turnover (Lacs)  \n",
       "0          7162.35  \n",
       "1         11859.95  \n",
       "2          5248.60  \n",
       "3          5503.90  \n",
       "4          7999.55  "
      ]
     },
     "execution_count": 3,
     "metadata": {},
     "output_type": "execute_result"
    }
   ],
   "source": [
    "data.head()"
   ]
  },
  {
   "cell_type": "markdown",
   "metadata": {
    "id": "o6Vbjv71w30r"
   },
   "source": [
    "**Data Sorting**"
   ]
  },
  {
   "cell_type": "code",
   "execution_count": 4,
   "metadata": {
    "colab": {
     "base_uri": "https://localhost:8080/"
    },
    "id": "6D6Xwl0lr2-L",
    "outputId": "45ffabab-2c91-4d2c-fac4-24d6184beee0"
   },
   "outputs": [
    {
     "name": "stdout",
     "output_type": "stream",
     "text": [
      "<class 'pandas._libs.tslibs.timestamps.Timestamp'>\n"
     ]
    }
   ],
   "source": [
    "data['Date']=pd.to_datetime(data['Date'])\n",
    "print(type(data.Date[0]))"
   ]
  },
  {
   "cell_type": "code",
   "execution_count": 5,
   "metadata": {
    "colab": {
     "base_uri": "https://localhost:8080/",
     "height": 206
    },
    "id": "AilIxwQYr3pX",
    "outputId": "b16de512-9027-462f-9e5d-a52abd79e1b4"
   },
   "outputs": [
    {
     "data": {
      "text/html": [
       "<div>\n",
       "<style scoped>\n",
       "    .dataframe tbody tr th:only-of-type {\n",
       "        vertical-align: middle;\n",
       "    }\n",
       "\n",
       "    .dataframe tbody tr th {\n",
       "        vertical-align: top;\n",
       "    }\n",
       "\n",
       "    .dataframe thead th {\n",
       "        text-align: right;\n",
       "    }\n",
       "</style>\n",
       "<table border=\"1\" class=\"dataframe\">\n",
       "  <thead>\n",
       "    <tr style=\"text-align: right;\">\n",
       "      <th></th>\n",
       "      <th>Date</th>\n",
       "      <th>Open</th>\n",
       "      <th>High</th>\n",
       "      <th>Low</th>\n",
       "      <th>Last</th>\n",
       "      <th>Close</th>\n",
       "      <th>Total Trade Quantity</th>\n",
       "      <th>Turnover (Lacs)</th>\n",
       "    </tr>\n",
       "  </thead>\n",
       "  <tbody>\n",
       "    <tr>\n",
       "      <th>2034</th>\n",
       "      <td>2010-07-21</td>\n",
       "      <td>122.1</td>\n",
       "      <td>123.00</td>\n",
       "      <td>121.05</td>\n",
       "      <td>121.10</td>\n",
       "      <td>121.55</td>\n",
       "      <td>658666</td>\n",
       "      <td>803.56</td>\n",
       "    </tr>\n",
       "    <tr>\n",
       "      <th>2033</th>\n",
       "      <td>2010-07-22</td>\n",
       "      <td>120.3</td>\n",
       "      <td>122.00</td>\n",
       "      <td>120.25</td>\n",
       "      <td>120.75</td>\n",
       "      <td>120.90</td>\n",
       "      <td>293312</td>\n",
       "      <td>355.17</td>\n",
       "    </tr>\n",
       "    <tr>\n",
       "      <th>2032</th>\n",
       "      <td>2010-07-23</td>\n",
       "      <td>121.8</td>\n",
       "      <td>121.95</td>\n",
       "      <td>120.25</td>\n",
       "      <td>120.35</td>\n",
       "      <td>120.65</td>\n",
       "      <td>281312</td>\n",
       "      <td>340.31</td>\n",
       "    </tr>\n",
       "    <tr>\n",
       "      <th>2031</th>\n",
       "      <td>2010-07-26</td>\n",
       "      <td>120.1</td>\n",
       "      <td>121.00</td>\n",
       "      <td>117.10</td>\n",
       "      <td>117.10</td>\n",
       "      <td>117.60</td>\n",
       "      <td>658440</td>\n",
       "      <td>780.01</td>\n",
       "    </tr>\n",
       "    <tr>\n",
       "      <th>2030</th>\n",
       "      <td>2010-07-27</td>\n",
       "      <td>117.6</td>\n",
       "      <td>119.50</td>\n",
       "      <td>112.00</td>\n",
       "      <td>118.80</td>\n",
       "      <td>118.65</td>\n",
       "      <td>586100</td>\n",
       "      <td>694.98</td>\n",
       "    </tr>\n",
       "  </tbody>\n",
       "</table>\n",
       "</div>"
      ],
      "text/plain": [
       "           Date   Open    High     Low    Last   Close  Total Trade Quantity  \\\n",
       "2034 2010-07-21  122.1  123.00  121.05  121.10  121.55                658666   \n",
       "2033 2010-07-22  120.3  122.00  120.25  120.75  120.90                293312   \n",
       "2032 2010-07-23  121.8  121.95  120.25  120.35  120.65                281312   \n",
       "2031 2010-07-26  120.1  121.00  117.10  117.10  117.60                658440   \n",
       "2030 2010-07-27  117.6  119.50  112.00  118.80  118.65                586100   \n",
       "\n",
       "      Turnover (Lacs)  \n",
       "2034           803.56  \n",
       "2033           355.17  \n",
       "2032           340.31  \n",
       "2031           780.01  \n",
       "2030           694.98  "
      ]
     },
     "execution_count": 5,
     "metadata": {},
     "output_type": "execute_result"
    }
   ],
   "source": [
    "df=data.sort_values(by='Date')\n",
    "df.head()"
   ]
  },
  {
   "cell_type": "code",
   "execution_count": 6,
   "metadata": {
    "id": "tdrwvvGer3sD"
   },
   "outputs": [],
   "source": [
    "df.reset_index(inplace=True)"
   ]
  },
  {
   "cell_type": "code",
   "execution_count": 7,
   "metadata": {
    "colab": {
     "base_uri": "https://localhost:8080/",
     "height": 206
    },
    "id": "t4pgVaXRr3us",
    "outputId": "77fdfb99-2637-4087-80bd-70a22484e961"
   },
   "outputs": [
    {
     "data": {
      "text/html": [
       "<div>\n",
       "<style scoped>\n",
       "    .dataframe tbody tr th:only-of-type {\n",
       "        vertical-align: middle;\n",
       "    }\n",
       "\n",
       "    .dataframe tbody tr th {\n",
       "        vertical-align: top;\n",
       "    }\n",
       "\n",
       "    .dataframe thead th {\n",
       "        text-align: right;\n",
       "    }\n",
       "</style>\n",
       "<table border=\"1\" class=\"dataframe\">\n",
       "  <thead>\n",
       "    <tr style=\"text-align: right;\">\n",
       "      <th></th>\n",
       "      <th>index</th>\n",
       "      <th>Date</th>\n",
       "      <th>Open</th>\n",
       "      <th>High</th>\n",
       "      <th>Low</th>\n",
       "      <th>Last</th>\n",
       "      <th>Close</th>\n",
       "      <th>Total Trade Quantity</th>\n",
       "      <th>Turnover (Lacs)</th>\n",
       "    </tr>\n",
       "  </thead>\n",
       "  <tbody>\n",
       "    <tr>\n",
       "      <th>0</th>\n",
       "      <td>2034</td>\n",
       "      <td>2010-07-21</td>\n",
       "      <td>122.1</td>\n",
       "      <td>123.00</td>\n",
       "      <td>121.05</td>\n",
       "      <td>121.10</td>\n",
       "      <td>121.55</td>\n",
       "      <td>658666</td>\n",
       "      <td>803.56</td>\n",
       "    </tr>\n",
       "    <tr>\n",
       "      <th>1</th>\n",
       "      <td>2033</td>\n",
       "      <td>2010-07-22</td>\n",
       "      <td>120.3</td>\n",
       "      <td>122.00</td>\n",
       "      <td>120.25</td>\n",
       "      <td>120.75</td>\n",
       "      <td>120.90</td>\n",
       "      <td>293312</td>\n",
       "      <td>355.17</td>\n",
       "    </tr>\n",
       "    <tr>\n",
       "      <th>2</th>\n",
       "      <td>2032</td>\n",
       "      <td>2010-07-23</td>\n",
       "      <td>121.8</td>\n",
       "      <td>121.95</td>\n",
       "      <td>120.25</td>\n",
       "      <td>120.35</td>\n",
       "      <td>120.65</td>\n",
       "      <td>281312</td>\n",
       "      <td>340.31</td>\n",
       "    </tr>\n",
       "    <tr>\n",
       "      <th>3</th>\n",
       "      <td>2031</td>\n",
       "      <td>2010-07-26</td>\n",
       "      <td>120.1</td>\n",
       "      <td>121.00</td>\n",
       "      <td>117.10</td>\n",
       "      <td>117.10</td>\n",
       "      <td>117.60</td>\n",
       "      <td>658440</td>\n",
       "      <td>780.01</td>\n",
       "    </tr>\n",
       "    <tr>\n",
       "      <th>4</th>\n",
       "      <td>2030</td>\n",
       "      <td>2010-07-27</td>\n",
       "      <td>117.6</td>\n",
       "      <td>119.50</td>\n",
       "      <td>112.00</td>\n",
       "      <td>118.80</td>\n",
       "      <td>118.65</td>\n",
       "      <td>586100</td>\n",
       "      <td>694.98</td>\n",
       "    </tr>\n",
       "  </tbody>\n",
       "</table>\n",
       "</div>"
      ],
      "text/plain": [
       "   index       Date   Open    High     Low    Last   Close  \\\n",
       "0   2034 2010-07-21  122.1  123.00  121.05  121.10  121.55   \n",
       "1   2033 2010-07-22  120.3  122.00  120.25  120.75  120.90   \n",
       "2   2032 2010-07-23  121.8  121.95  120.25  120.35  120.65   \n",
       "3   2031 2010-07-26  120.1  121.00  117.10  117.10  117.60   \n",
       "4   2030 2010-07-27  117.6  119.50  112.00  118.80  118.65   \n",
       "\n",
       "   Total Trade Quantity  Turnover (Lacs)  \n",
       "0                658666           803.56  \n",
       "1                293312           355.17  \n",
       "2                281312           340.31  \n",
       "3                658440           780.01  \n",
       "4                586100           694.98  "
      ]
     },
     "execution_count": 7,
     "metadata": {},
     "output_type": "execute_result"
    }
   ],
   "source": [
    "df.head()"
   ]
  },
  {
   "cell_type": "markdown",
   "metadata": {
    "id": "HDnbY-guxxqd"
   },
   "source": [
    "**Visualization**"
   ]
  },
  {
   "cell_type": "code",
   "execution_count": 8,
   "metadata": {
    "colab": {
     "base_uri": "https://localhost:8080/",
     "height": 283
    },
    "id": "cxjrWAsRr3xo",
    "outputId": "82ad3266-5b4c-4036-f393-09837e7e92bd"
   },
   "outputs": [
    {
     "data": {
      "text/plain": [
       "[<matplotlib.lines.Line2D at 0x23616345e20>]"
      ]
     },
     "execution_count": 8,
     "metadata": {},
     "output_type": "execute_result"
    },
    {
     "data": {
      "image/png": "[encoded data removed]",
      "text/plain": [
       "<Figure size 432x288 with 1 Axes>"
      ]
     },
     "metadata": {
      "needs_background": "light"
     },
     "output_type": "display_data"
    }
   ],
   "source": [
    "plt.plot(df['Close'])"
   ]
  },
  {
   "cell_type": "code",
   "execution_count": 9,
   "metadata": {
    "colab": {
     "base_uri": "https://localhost:8080/"
    },
    "id": "ZzQIgHIosDtF",
    "outputId": "a98d19ac-1555-47ac-c7ab-9e94a6e6441a"
   },
   "outputs": [
    {
     "data": {
      "text/plain": [
       "0       121.55\n",
       "1       120.90\n",
       "2       120.65\n",
       "3       117.60\n",
       "4       118.65\n",
       "         ...  \n",
       "2030    233.30\n",
       "2031    236.10\n",
       "2032    234.25\n",
       "2033    233.25\n",
       "2034    233.75\n",
       "Name: Close, Length: 2035, dtype: float64"
      ]
     },
     "execution_count": 9,
     "metadata": {},
     "output_type": "execute_result"
    }
   ],
   "source": [
    "dff=df['Close']\n",
    "dff"
   ]
  },
  {
   "cell_type": "markdown",
   "metadata": {
    "id": "TUBgqgPAx43f"
   },
   "source": [
    "**Min Max Scaler**"
   ]
  },
  {
   "cell_type": "code",
   "execution_count": 10,
   "metadata": {
    "colab": {
     "base_uri": "https://localhost:8080/"
    },
    "id": "WvOVuj-msDv2",
    "outputId": "a2053178-0105-4065-adcc-416b636502f4"
   },
   "outputs": [
    {
     "data": {
      "text/plain": [
       "array([[0.16584967],\n",
       "       [0.16319444],\n",
       "       [0.1621732 ],\n",
       "       ...,\n",
       "       [0.62622549],\n",
       "       [0.62214052],\n",
       "       [0.62418301]])"
      ]
     },
     "execution_count": 10,
     "metadata": {},
     "output_type": "execute_result"
    }
   ],
   "source": [
    "scaler=MinMaxScaler(feature_range=(0,1))\n",
    "dff=scaler.fit_transform(np.array(dff).reshape(-1,1))\n",
    "dff"
   ]
  },
  {
   "cell_type": "markdown",
   "metadata": {
    "id": "lXjVCSkHx_uA"
   },
   "source": [
    "**Spliting the Dataset**"
   ]
  },
  {
   "cell_type": "code",
   "execution_count": 11,
   "metadata": {
    "id": "PoQ5sKvVsDy_"
   },
   "outputs": [],
   "source": [
    "training_size=int(len(dff)*0.70)\n",
    "test_size=len(dff)-training_size\n",
    "train_data,test_data=dff[0:training_size,:],dff[training_size:len(dff),:1]"
   ]
  },
  {
   "cell_type": "markdown",
   "metadata": {
    "id": "T1Y2YCisyNzL"
   },
   "source": [
    "**convert an array of values into a dataset matrix**"
   ]
  },
  {
   "cell_type": "code",
   "execution_count": 12,
   "metadata": {
    "id": "PyB0gM41sD3E"
   },
   "outputs": [],
   "source": [
    "def create_dataset(dataset, time_step=1):\n",
    "    dataX, dataY = [], []\n",
    "    for i in range(len(dataset)-time_step-1):\n",
    "        a = dataset[i:(i+time_step), 0]\n",
    "        dataX.append(a)\n",
    "        dataY.append(dataset[i + time_step, 0])\n",
    "    return np.array(dataX), np.array(dataY)"
   ]
  },
  {
   "cell_type": "markdown",
   "metadata": {
    "id": "4FdN67TgyS5t"
   },
   "source": [
    "**Spliting Data into Train and Test**"
   ]
  },
  {
   "cell_type": "code",
   "execution_count": 13,
   "metadata": {
    "id": "46_MNsUasJZ2"
   },
   "outputs": [],
   "source": [
    "time_step = 100\n",
    "X_train, y_train = create_dataset(train_data, time_step)\n",
    "X_test, ytest = create_dataset(test_data, time_step)"
   ]
  },
  {
   "cell_type": "code",
   "execution_count": 14,
   "metadata": {
    "colab": {
     "base_uri": "https://localhost:8080/"
    },
    "id": "Wg1e3BZ2sJcZ",
    "outputId": "d4f0bd23-8499-4858-e99d-d87bb1ea598a"
   },
   "outputs": [
    {
     "name": "stdout",
     "output_type": "stream",
     "text": [
      "(1323, 100)\n",
      "(1323,)\n"
     ]
    },
    {
     "data": {
      "text/plain": [
       "(None, None)"
      ]
     },
     "execution_count": 14,
     "metadata": {},
     "output_type": "execute_result"
    }
   ],
   "source": [
    "print(X_train.shape), print(y_train.shape)"
   ]
  },
  {
   "cell_type": "code",
   "execution_count": 15,
   "metadata": {
    "colab": {
     "base_uri": "https://localhost:8080/"
    },
    "id": "hPVq6WITsJhe",
    "outputId": "36336651-f2a9-4155-af12-99e905ca2569"
   },
   "outputs": [
    {
     "name": "stdout",
     "output_type": "stream",
     "text": [
      "(510, 100)\n",
      "(510,)\n"
     ]
    },
    {
     "data": {
      "text/plain": [
       "(None, None)"
      ]
     },
     "execution_count": 15,
     "metadata": {},
     "output_type": "execute_result"
    }
   ],
   "source": [
    "print(X_test.shape), print(ytest.shape)"
   ]
  },
  {
   "cell_type": "code",
   "execution_count": 16,
   "metadata": {
    "id": "X2aeKwZnsJkU"
   },
   "outputs": [],
   "source": [
    "X_train =X_train.reshape(X_train.shape[0],X_train.shape[1] , 1)\n",
    "X_test = X_test.reshape(X_test.shape[0],X_test.shape[1] , 1)"
   ]
  },
  {
   "cell_type": "markdown",
   "metadata": {
    "id": "EDpuxOKIyiP1"
   },
   "source": [
    "**Creating the LSTM Model**"
   ]
  },
  {
   "cell_type": "code",
   "execution_count": 17,
   "metadata": {
    "id": "M1PBk5yrsD5h"
   },
   "outputs": [],
   "source": [
    "from tensorflow.keras.models import Sequential\n",
    "from tensorflow.keras.layers import Dense\n",
    "from tensorflow.keras.layers import LSTM"
   ]
  },
  {
   "cell_type": "code",
   "execution_count": 18,
   "metadata": {
    "colab": {
     "base_uri": "https://localhost:8080/"
    },
    "id": "LTodqbHfsT4O",
    "outputId": "2de04159-50f2-43fb-fb17-506e1b27c6e3"
   },
   "outputs": [
    {
     "name": "stdout",
     "output_type": "stream",
     "text": [
      "Model: \"sequential\"\n",
      "_________________________________________________________________\n",
      "Layer (type)                 Output Shape              Param #   \n",
      "=================================================================\n",
      "lstm (LSTM)                  (None, 100, 50)           10400     \n",
      "_________________________________________________________________\n",
      "lstm_1 (LSTM)                (None, 100, 50)           20200     \n",
      "_________________________________________________________________\n",
      "lstm_2 (LSTM)                (None, 50)                20200     \n",
      "_________________________________________________________________\n",
      "dense (Dense)                (None, 1)                 51        \n",
      "=================================================================\n",
      "Total params: 50,851\n",
      "Trainable params: 50,851\n",
      "Non-trainable params: 0\n",
      "_________________________________________________________________\n"
     ]
    }
   ],
   "source": [
    "model=Sequential()\n",
    "model.add(LSTM(50,return_sequences=True,input_shape=(100,1)))\n",
    "model.add(LSTM(50,return_sequences=True))\n",
    "model.add(LSTM(50))\n",
    "model.add(Dense(1))\n",
    "model.compile(loss='mean_squared_error',optimizer='adam')\n",
    "model.summary()"
   ]
  },
  {
   "cell_type": "code",
   "execution_count": 39,
   "metadata": {
    "colab": {
     "base_uri": "https://localhost:8080/"
    },
    "id": "ainGBWMAsT7F",
    "outputId": "b0f42b58-761f-4c36-a87d-9cd4504cc2c1"
   },
   "outputs": [
    {
     "name": "stdout",
     "output_type": "stream",
     "text": [
      "Epoch 1/70\n",
      "19/19 [==============================] - 2s 119ms/step - loss: 1.2620e-04 - val_loss: 1.1902e-04\n",
      "Epoch 2/70\n",
      "19/19 [==============================] - 3s 139ms/step - loss: 1.2765e-04 - val_loss: 1.1172e-04\n",
      "Epoch 3/70\n",
      "19/19 [==============================] - 2s 128ms/step - loss: 1.2357e-04 - val_loss: 1.1068e-04\n",
      "Epoch 4/70\n",
      "19/19 [==============================] - 2s 122ms/step - loss: 1.2389e-04 - val_loss: 1.1242e-04\n",
      "Epoch 5/70\n",
      "19/19 [==============================] - 2s 124ms/step - loss: 1.2495e-04 - val_loss: 1.1247e-04\n",
      "Epoch 6/70\n",
      "19/19 [==============================] - 2s 122ms/step - loss: 1.2676e-04 - val_loss: 1.1227e-04\n",
      "Epoch 7/70\n",
      "19/19 [==============================] - 2s 114ms/step - loss: 1.2864e-04 - val_loss: 1.1808e-04\n",
      "Epoch 8/70\n",
      "19/19 [==============================] - 2s 116ms/step - loss: 1.2506e-04 - val_loss: 1.3167e-04\n",
      "Epoch 9/70\n",
      "19/19 [==============================] - 2s 115ms/step - loss: 1.2800e-04 - val_loss: 1.1663e-04\n",
      "Epoch 10/70\n",
      "19/19 [==============================] - 2s 118ms/step - loss: 1.2488e-04 - val_loss: 1.1918e-04\n",
      "Epoch 11/70\n",
      "19/19 [==============================] - 2s 127ms/step - loss: 1.2665e-04 - val_loss: 1.4116e-04\n",
      "Epoch 12/70\n",
      "19/19 [==============================] - 2s 129ms/step - loss: 1.3127e-04 - val_loss: 1.0954e-04\n",
      "Epoch 13/70\n",
      "19/19 [==============================] - 3s 132ms/step - loss: 1.2600e-04 - val_loss: 1.1301e-04\n",
      "Epoch 14/70\n",
      "19/19 [==============================] - 2s 127ms/step - loss: 1.3113e-04 - val_loss: 1.1576e-04\n",
      "Epoch 15/70\n",
      "19/19 [==============================] - 2s 130ms/step - loss: 1.2882e-04 - val_loss: 1.1714e-04\n",
      "Epoch 16/70\n",
      "19/19 [==============================] - 2s 129ms/step - loss: 1.2341e-04 - val_loss: 1.2211e-04\n",
      "Epoch 17/70\n",
      "19/19 [==============================] - 3s 132ms/step - loss: 1.2672e-04 - val_loss: 1.1251e-04\n",
      "Epoch 18/70\n",
      "19/19 [==============================] - 2s 124ms/step - loss: 1.2778e-04 - val_loss: 1.5484e-04\n",
      "Epoch 19/70\n",
      "19/19 [==============================] - 2s 130ms/step - loss: 1.2904e-04 - val_loss: 1.1268e-04\n",
      "Epoch 20/70\n",
      "19/19 [==============================] - 2s 130ms/step - loss: 1.2435e-04 - val_loss: 1.1196e-04\n",
      "Epoch 21/70\n",
      "19/19 [==============================] - 2s 125ms/step - loss: 1.2709e-04 - val_loss: 1.1986e-04\n",
      "Epoch 22/70\n",
      "19/19 [==============================] - 3s 133ms/step - loss: 1.2591e-04 - val_loss: 1.1008e-04\n",
      "Epoch 23/70\n",
      "19/19 [==============================] - 2s 126ms/step - loss: 1.2930e-04 - val_loss: 1.1560e-04\n",
      "Epoch 24/70\n",
      "19/19 [==============================] - 2s 125ms/step - loss: 1.3011e-04 - val_loss: 1.1856e-04\n",
      "Epoch 25/70\n",
      "19/19 [==============================] - 3s 153ms/step - loss: 1.2553e-04 - val_loss: 1.0945e-04\n",
      "Epoch 26/70\n",
      "19/19 [==============================] - 3s 140ms/step - loss: 1.2914e-04 - val_loss: 1.0921e-04\n",
      "Epoch 27/70\n",
      "19/19 [==============================] - 3s 132ms/step - loss: 1.2265e-04 - val_loss: 1.1936e-04\n",
      "Epoch 28/70\n",
      "19/19 [==============================] - 2s 125ms/step - loss: 1.2230e-04 - val_loss: 1.1550e-04\n",
      "Epoch 29/70\n",
      "19/19 [==============================] - 2s 128ms/step - loss: 1.2439e-04 - val_loss: 1.2386e-04\n",
      "Epoch 30/70\n",
      "19/19 [==============================] - 2s 129ms/step - loss: 1.2366e-04 - val_loss: 1.2979e-04\n",
      "Epoch 31/70\n",
      "19/19 [==============================] - 2s 125ms/step - loss: 1.3931e-04 - val_loss: 1.1035e-04\n",
      "Epoch 32/70\n",
      "19/19 [==============================] - 3s 133ms/step - loss: 1.3910e-04 - val_loss: 1.1636e-04\n",
      "Epoch 33/70\n",
      "19/19 [==============================] - 2s 124ms/step - loss: 1.2208e-04 - val_loss: 1.1851e-04\n",
      "Epoch 34/70\n",
      "19/19 [==============================] - 2s 126ms/step - loss: 1.2202e-04 - val_loss: 1.1109e-04\n",
      "Epoch 35/70\n",
      "19/19 [==============================] - 2s 131ms/step - loss: 1.2155e-04 - val_loss: 1.1824e-04\n",
      "Epoch 36/70\n",
      "19/19 [==============================] - 2s 127ms/step - loss: 1.2450e-04 - val_loss: 1.1742e-04\n",
      "Epoch 37/70\n",
      "19/19 [==============================] - 2s 125ms/step - loss: 1.2593e-04 - val_loss: 1.2930e-04\n",
      "Epoch 38/70\n",
      "19/19 [==============================] - 3s 137ms/step - loss: 1.3358e-04 - val_loss: 1.1162e-04\n",
      "Epoch 39/70\n",
      "19/19 [==============================] - 2s 126ms/step - loss: 1.4079e-04 - val_loss: 1.3138e-04\n",
      "Epoch 40/70\n",
      "19/19 [==============================] - 2s 128ms/step - loss: 1.4399e-04 - val_loss: 1.4465e-04\n",
      "Epoch 41/70\n",
      "19/19 [==============================] - 2s 130ms/step - loss: 1.3397e-04 - val_loss: 1.1090e-04\n",
      "Epoch 42/70\n",
      "19/19 [==============================] - 2s 130ms/step - loss: 1.2308e-04 - val_loss: 1.1205e-04\n",
      "Epoch 43/70\n",
      "19/19 [==============================] - 2s 125ms/step - loss: 1.2046e-04 - val_loss: 1.1130e-04\n",
      "Epoch 44/70\n",
      "19/19 [==============================] - 2s 131ms/step - loss: 1.2552e-04 - val_loss: 1.1393e-04\n",
      "Epoch 45/70\n",
      "19/19 [==============================] - 2s 131ms/step - loss: 1.2831e-04 - val_loss: 1.1806e-04\n",
      "Epoch 46/70\n",
      "19/19 [==============================] - 3s 157ms/step - loss: 1.2838e-04 - val_loss: 1.1824e-04\n",
      "Epoch 47/70\n",
      "19/19 [==============================] - 3s 136ms/step - loss: 1.4816e-04 - val_loss: 1.3033e-04\n",
      "Epoch 48/70\n",
      "19/19 [==============================] - 3s 145ms/step - loss: 1.5203e-04 - val_loss: 1.2872e-04\n",
      "Epoch 49/70\n",
      "19/19 [==============================] - 3s 155ms/step - loss: 1.2934e-04 - val_loss: 1.1048e-04\n",
      "Epoch 50/70\n",
      "19/19 [==============================] - 3s 157ms/step - loss: 1.2433e-04 - val_loss: 1.1113e-04\n",
      "Epoch 51/70\n",
      "19/19 [==============================] - 3s 135ms/step - loss: 1.2173e-04 - val_loss: 1.1162e-04\n",
      "Epoch 52/70\n",
      "19/19 [==============================] - 2s 126ms/step - loss: 1.2460e-04 - val_loss: 1.1285e-04\n",
      "Epoch 53/70\n",
      "19/19 [==============================] - 2s 129ms/step - loss: 1.2514e-04 - val_loss: 1.1064e-04\n",
      "Epoch 54/70\n",
      "19/19 [==============================] - 3s 137ms/step - loss: 1.2809e-04 - val_loss: 1.1378e-04\n",
      "Epoch 55/70\n",
      "19/19 [==============================] - 2s 128ms/step - loss: 1.3168e-04 - val_loss: 1.0998e-04\n",
      "Epoch 56/70\n",
      "19/19 [==============================] - 3s 132ms/step - loss: 1.2862e-04 - val_loss: 1.1078e-04\n",
      "Epoch 57/70\n",
      "19/19 [==============================] - 2s 126ms/step - loss: 1.3113e-04 - val_loss: 1.1136e-04\n",
      "Epoch 58/70\n",
      "19/19 [==============================] - 2s 124ms/step - loss: 1.2163e-04 - val_loss: 1.2292e-04\n",
      "Epoch 59/70\n",
      "19/19 [==============================] - 2s 130ms/step - loss: 1.2688e-04 - val_loss: 1.1181e-04\n",
      "Epoch 60/70\n",
      "19/19 [==============================] - 2s 129ms/step - loss: 1.2432e-04 - val_loss: 1.1639e-04\n",
      "Epoch 61/70\n",
      "19/19 [==============================] - 2s 130ms/step - loss: 1.3345e-04 - val_loss: 1.2648e-04\n",
      "Epoch 62/70\n",
      "19/19 [==============================] - 2s 128ms/step - loss: 1.3192e-04 - val_loss: 1.1026e-04\n",
      "Epoch 63/70\n",
      "19/19 [==============================] - 2s 128ms/step - loss: 1.3129e-04 - val_loss: 1.4100e-04\n",
      "Epoch 64/70\n",
      "19/19 [==============================] - 2s 130ms/step - loss: 1.3315e-04 - val_loss: 1.1091e-04\n",
      "Epoch 65/70\n",
      "19/19 [==============================] - 2s 126ms/step - loss: 1.2407e-04 - val_loss: 1.1037e-04\n",
      "Epoch 66/70\n",
      "19/19 [==============================] - 2s 124ms/step - loss: 1.2623e-04 - val_loss: 1.1278e-04\n",
      "Epoch 67/70\n",
      "19/19 [==============================] - 2s 131ms/step - loss: 1.2683e-04 - val_loss: 1.3490e-04\n",
      "Epoch 68/70\n",
      "19/19 [==============================] - 2s 124ms/step - loss: 1.2721e-04 - val_loss: 1.1021e-04\n",
      "Epoch 69/70\n",
      "19/19 [==============================] - 2s 127ms/step - loss: 1.3695e-04 - val_loss: 1.0963e-04\n",
      "Epoch 70/70\n",
      "19/19 [==============================] - 3s 134ms/step - loss: 1.4135e-04 - val_loss: 1.0996e-04\n"
     ]
    },
    {
     "data": {
      "text/plain": [
       "<tensorflow.python.keras.callbacks.History at 0x236209ad340>"
      ]
     },
     "execution_count": 39,
     "metadata": {},
     "output_type": "execute_result"
    }
   ],
   "source": [
    "model.fit(X_train,y_train,validation_split=0.1,epochs=70,batch_size=64,verbose=1)"
   ]
  },
  {
   "cell_type": "markdown",
   "metadata": {
    "id": "PQUrsin3yrgQ"
   },
   "source": [
    "**Prediction and Checking Performance**"
   ]
  },
  {
   "cell_type": "code",
   "execution_count": 40,
   "metadata": {
    "id": "DY3TrhYKsT9s"
   },
   "outputs": [],
   "source": [
    "test_predict=model.predict(X_test)"
   ]
  },
  {
   "cell_type": "code",
   "execution_count": 41,
   "metadata": {
    "colab": {
     "base_uri": "https://localhost:8080/"
    },
    "id": "CFAi8L45sUAV",
    "outputId": "c90ffb98-0b1b-40d7-d2f0-19f0f8474b42"
   },
   "outputs": [
    {
     "data": {
      "text/plain": [
       "array([[141.48259 ],\n",
       "       [141.46791 ],\n",
       "       [138.9747  ],\n",
       "       [134.6133  ],\n",
       "       [136.71611 ],\n",
       "       [136.55959 ],\n",
       "       [139.35857 ],\n",
       "       [139.52054 ],\n",
       "       [137.54393 ],\n",
       "       [137.4766  ],\n",
       "       [138.34662 ],\n",
       "       [141.82047 ],\n",
       "       [140.15805 ],\n",
       "       [143.80731 ],\n",
       "       [146.04422 ],\n",
       "       [136.2092  ],\n",
       "       [138.57549 ],\n",
       "       [141.6131  ],\n",
       "       [141.18881 ],\n",
       "       [152.50456 ],\n",
       "       [150.17981 ],\n",
       "       [150.0383  ],\n",
       "       [150.33914 ],\n",
       "       [146.4297  ],\n",
       "       [151.92032 ],\n",
       "       [148.95848 ],\n",
       "       [150.59044 ],\n",
       "       [153.36009 ],\n",
       "       [150.97182 ],\n",
       "       [151.11304 ],\n",
       "       [152.73708 ],\n",
       "       [148.59378 ],\n",
       "       [144.05286 ],\n",
       "       [136.65166 ],\n",
       "       [139.0988  ],\n",
       "       [138.94392 ],\n",
       "       [138.25487 ],\n",
       "       [134.72688 ],\n",
       "       [131.1714  ],\n",
       "       [126.85329 ],\n",
       "       [127.87356 ],\n",
       "       [127.66127 ],\n",
       "       [122.48904 ],\n",
       "       [125.31759 ],\n",
       "       [119.51448 ],\n",
       "       [117.36473 ],\n",
       "       [121.23823 ],\n",
       "       [119.378456],\n",
       "       [120.375336],\n",
       "       [116.43037 ],\n",
       "       [117.36309 ],\n",
       "       [117.917145],\n",
       "       [115.65342 ],\n",
       "       [118.39214 ],\n",
       "       [121.0479  ],\n",
       "       [122.154175],\n",
       "       [123.82828 ],\n",
       "       [122.02791 ],\n",
       "       [121.36374 ],\n",
       "       [123.26444 ],\n",
       "       [123.26193 ],\n",
       "       [122.17873 ],\n",
       "       [123.512054],\n",
       "       [123.74236 ],\n",
       "       [123.225395],\n",
       "       [123.17208 ],\n",
       "       [122.63935 ],\n",
       "       [124.2027  ],\n",
       "       [124.256615],\n",
       "       [124.21582 ],\n",
       "       [121.35192 ],\n",
       "       [121.41348 ],\n",
       "       [119.51956 ],\n",
       "       [118.88335 ],\n",
       "       [117.24435 ],\n",
       "       [120.385574],\n",
       "       [119.99822 ],\n",
       "       [121.21636 ],\n",
       "       [122.14375 ],\n",
       "       [123.58182 ],\n",
       "       [124.46686 ],\n",
       "       [124.42577 ],\n",
       "       [125.01972 ],\n",
       "       [124.51017 ],\n",
       "       [124.5131  ],\n",
       "       [124.24293 ],\n",
       "       [127.145035],\n",
       "       [125.161095],\n",
       "       [127.90287 ],\n",
       "       [127.5146  ],\n",
       "       [127.336266],\n",
       "       [128.30602 ],\n",
       "       [130.14508 ],\n",
       "       [126.343376],\n",
       "       [127.42228 ],\n",
       "       [128.16075 ],\n",
       "       [128.14183 ],\n",
       "       [128.93834 ],\n",
       "       [130.18633 ],\n",
       "       [128.71454 ],\n",
       "       [129.74031 ],\n",
       "       [137.08597 ],\n",
       "       [141.59132 ],\n",
       "       [142.29233 ],\n",
       "       [140.85782 ],\n",
       "       [145.11826 ],\n",
       "       [142.90361 ],\n",
       "       [142.78935 ],\n",
       "       [140.84366 ],\n",
       "       [140.14432 ],\n",
       "       [137.84406 ],\n",
       "       [139.25945 ],\n",
       "       [139.50111 ],\n",
       "       [140.97269 ],\n",
       "       [141.0232  ],\n",
       "       [139.39941 ],\n",
       "       [138.61395 ],\n",
       "       [138.30807 ],\n",
       "       [137.52324 ],\n",
       "       [142.98297 ],\n",
       "       [140.7046  ],\n",
       "       [142.66484 ],\n",
       "       [142.58997 ],\n",
       "       [141.99512 ],\n",
       "       [140.61346 ],\n",
       "       [140.00964 ],\n",
       "       [136.41663 ],\n",
       "       [138.75797 ],\n",
       "       [140.35988 ],\n",
       "       [144.12642 ],\n",
       "       [144.22601 ],\n",
       "       [145.66571 ],\n",
       "       [145.0266  ],\n",
       "       [142.12656 ],\n",
       "       [150.5923  ],\n",
       "       [150.24255 ],\n",
       "       [147.37323 ],\n",
       "       [149.30418 ],\n",
       "       [149.37701 ],\n",
       "       [148.88858 ],\n",
       "       [149.30501 ],\n",
       "       [150.68936 ],\n",
       "       [151.42538 ],\n",
       "       [151.77551 ],\n",
       "       [149.24458 ],\n",
       "       [149.65895 ],\n",
       "       [152.21478 ],\n",
       "       [150.50412 ],\n",
       "       [149.21967 ],\n",
       "       [148.22884 ],\n",
       "       [147.00342 ],\n",
       "       [149.15947 ],\n",
       "       [151.16345 ],\n",
       "       [150.21812 ],\n",
       "       [150.79938 ],\n",
       "       [150.51479 ],\n",
       "       [152.56216 ],\n",
       "       [150.82222 ],\n",
       "       [151.81049 ],\n",
       "       [156.4758  ],\n",
       "       [154.75555 ],\n",
       "       [153.77547 ],\n",
       "       [150.68796 ],\n",
       "       [151.15083 ],\n",
       "       [152.72847 ],\n",
       "       [153.53625 ],\n",
       "       [152.61557 ],\n",
       "       [151.24034 ],\n",
       "       [153.28932 ],\n",
       "       [153.11978 ],\n",
       "       [151.453   ],\n",
       "       [146.07626 ],\n",
       "       [148.31929 ],\n",
       "       [146.75897 ],\n",
       "       [143.75183 ],\n",
       "       [140.82047 ],\n",
       "       [142.29446 ],\n",
       "       [146.27724 ],\n",
       "       [144.82558 ],\n",
       "       [144.80553 ],\n",
       "       [148.6061  ],\n",
       "       [151.56677 ],\n",
       "       [153.81839 ],\n",
       "       [153.65541 ],\n",
       "       [151.48256 ],\n",
       "       [154.0784  ],\n",
       "       [153.054   ],\n",
       "       [152.82681 ],\n",
       "       [150.51294 ],\n",
       "       [155.06169 ],\n",
       "       [157.04292 ],\n",
       "       [157.51727 ],\n",
       "       [156.46463 ],\n",
       "       [154.61615 ],\n",
       "       [155.19724 ],\n",
       "       [155.19435 ],\n",
       "       [153.12253 ],\n",
       "       [149.57278 ],\n",
       "       [145.95703 ],\n",
       "       [148.04535 ],\n",
       "       [147.54733 ],\n",
       "       [149.74211 ],\n",
       "       [150.68735 ],\n",
       "       [149.02092 ],\n",
       "       [155.12614 ],\n",
       "       [152.14581 ],\n",
       "       [156.47084 ],\n",
       "       [165.29051 ],\n",
       "       [167.72227 ],\n",
       "       [171.52809 ],\n",
       "       [172.6476  ],\n",
       "       [171.00134 ],\n",
       "       [174.00652 ],\n",
       "       [170.19585 ],\n",
       "       [172.07196 ],\n",
       "       [167.85437 ],\n",
       "       [169.32846 ],\n",
       "       [166.97911 ],\n",
       "       [168.49956 ],\n",
       "       [169.54277 ],\n",
       "       [165.4568  ],\n",
       "       [166.68007 ],\n",
       "       [167.08397 ],\n",
       "       [164.91536 ],\n",
       "       [162.62431 ],\n",
       "       [164.51178 ],\n",
       "       [164.21628 ],\n",
       "       [168.37434 ],\n",
       "       [163.34872 ],\n",
       "       [159.61853 ],\n",
       "       [153.69855 ],\n",
       "       [162.7198  ],\n",
       "       [177.30595 ],\n",
       "       [191.58781 ],\n",
       "       [185.95926 ],\n",
       "       [189.98035 ],\n",
       "       [191.02922 ],\n",
       "       [183.77466 ],\n",
       "       [192.20694 ],\n",
       "       [188.24438 ],\n",
       "       [187.77956 ],\n",
       "       [184.72273 ],\n",
       "       [192.50537 ],\n",
       "       [192.16226 ],\n",
       "       [191.64503 ],\n",
       "       [187.08932 ],\n",
       "       [191.66081 ],\n",
       "       [200.68172 ],\n",
       "       [198.59508 ],\n",
       "       [199.98766 ],\n",
       "       [202.13565 ],\n",
       "       [204.53056 ],\n",
       "       [198.70084 ],\n",
       "       [205.09198 ],\n",
       "       [201.97003 ],\n",
       "       [205.50197 ],\n",
       "       [207.72792 ],\n",
       "       [204.35486 ],\n",
       "       [203.50241 ],\n",
       "       [191.68907 ],\n",
       "       [189.85146 ],\n",
       "       [199.02995 ],\n",
       "       [190.57246 ],\n",
       "       [197.22752 ],\n",
       "       [198.75127 ],\n",
       "       [199.00258 ],\n",
       "       [197.27956 ],\n",
       "       [202.45036 ],\n",
       "       [201.41512 ],\n",
       "       [200.1143  ],\n",
       "       [200.55287 ],\n",
       "       [201.44734 ],\n",
       "       [203.97583 ],\n",
       "       [201.43375 ],\n",
       "       [201.29153 ],\n",
       "       [202.10397 ],\n",
       "       [198.12036 ],\n",
       "       [196.72287 ],\n",
       "       [195.52318 ],\n",
       "       [202.86087 ],\n",
       "       [196.54958 ],\n",
       "       [202.75053 ],\n",
       "       [212.71977 ],\n",
       "       [216.88336 ],\n",
       "       [215.68015 ],\n",
       "       [216.70787 ],\n",
       "       [214.75804 ],\n",
       "       [214.04948 ],\n",
       "       [224.15659 ],\n",
       "       [210.72336 ],\n",
       "       [214.03967 ],\n",
       "       [229.98978 ],\n",
       "       [220.79295 ],\n",
       "       [221.3458  ],\n",
       "       [234.19318 ],\n",
       "       [234.55028 ],\n",
       "       [235.12637 ],\n",
       "       [243.0599  ],\n",
       "       [255.4109  ],\n",
       "       [249.12297 ],\n",
       "       [251.85687 ],\n",
       "       [251.53413 ],\n",
       "       [255.27168 ],\n",
       "       [252.32195 ],\n",
       "       [263.5151  ],\n",
       "       [251.45558 ],\n",
       "       [262.88553 ],\n",
       "       [254.95245 ],\n",
       "       [253.12526 ],\n",
       "       [254.93991 ],\n",
       "       [248.96042 ],\n",
       "       [260.39307 ],\n",
       "       [260.46503 ],\n",
       "       [269.79294 ],\n",
       "       [255.57039 ],\n",
       "       [257.96527 ],\n",
       "       [257.07553 ],\n",
       "       [259.69733 ],\n",
       "       [262.53586 ],\n",
       "       [270.85773 ],\n",
       "       [267.68555 ],\n",
       "       [268.1085  ],\n",
       "       [270.56897 ],\n",
       "       [272.5291  ],\n",
       "       [271.15405 ],\n",
       "       [272.66876 ],\n",
       "       [281.3809  ],\n",
       "       [274.27695 ],\n",
       "       [275.43643 ],\n",
       "       [275.1872  ],\n",
       "       [276.15567 ],\n",
       "       [276.36844 ],\n",
       "       [280.6852  ],\n",
       "       [276.6137  ],\n",
       "       [277.15665 ],\n",
       "       [276.2776  ],\n",
       "       [288.29294 ],\n",
       "       [280.64252 ],\n",
       "       [277.35666 ],\n",
       "       [276.397   ],\n",
       "       [268.78912 ],\n",
       "       [275.04156 ],\n",
       "       [272.90784 ],\n",
       "       [272.01694 ],\n",
       "       [269.67618 ],\n",
       "       [270.76755 ],\n",
       "       [267.93353 ],\n",
       "       [271.28674 ],\n",
       "       [256.4596  ],\n",
       "       [260.8162  ],\n",
       "       [245.30322 ],\n",
       "       [250.21643 ],\n",
       "       [241.83325 ],\n",
       "       [258.613   ],\n",
       "       [252.64745 ],\n",
       "       [252.40115 ],\n",
       "       [259.6197  ],\n",
       "       [253.53616 ],\n",
       "       [252.86578 ],\n",
       "       [249.75462 ],\n",
       "       [243.0374  ],\n",
       "       [240.56459 ],\n",
       "       [245.55524 ],\n",
       "       [238.99367 ],\n",
       "       [250.22566 ],\n",
       "       [249.06381 ],\n",
       "       [250.80037 ],\n",
       "       [250.75745 ],\n",
       "       [250.0821  ],\n",
       "       [251.15352 ],\n",
       "       [249.17284 ],\n",
       "       [244.48894 ],\n",
       "       [251.04008 ],\n",
       "       [243.33023 ],\n",
       "       [254.08063 ],\n",
       "       [252.34389 ],\n",
       "       [253.06322 ],\n",
       "       [254.01347 ],\n",
       "       [246.20607 ],\n",
       "       [237.01434 ],\n",
       "       [242.54535 ],\n",
       "       [241.65353 ],\n",
       "       [237.29805 ],\n",
       "       [238.12091 ],\n",
       "       [242.41023 ],\n",
       "       [242.47699 ],\n",
       "       [237.15236 ],\n",
       "       [257.54712 ],\n",
       "       [248.23308 ],\n",
       "       [246.5599  ],\n",
       "       [250.30101 ],\n",
       "       [248.43242 ],\n",
       "       [254.15291 ],\n",
       "       [249.59181 ],\n",
       "       [249.55714 ],\n",
       "       [249.69185 ],\n",
       "       [251.27982 ],\n",
       "       [254.83678 ],\n",
       "       [254.72879 ],\n",
       "       [257.88043 ],\n",
       "       [258.7623  ],\n",
       "       [258.4177  ],\n",
       "       [255.7922  ],\n",
       "       [256.4002  ],\n",
       "       [262.10687 ],\n",
       "       [261.82895 ],\n",
       "       [262.6875  ],\n",
       "       [267.7479  ],\n",
       "       [260.84302 ],\n",
       "       [257.46585 ],\n",
       "       [260.24628 ],\n",
       "       [265.3897  ],\n",
       "       [258.6424  ],\n",
       "       [263.702   ],\n",
       "       [254.97023 ],\n",
       "       [260.80075 ],\n",
       "       [224.82547 ],\n",
       "       [226.96666 ],\n",
       "       [225.04128 ],\n",
       "       [232.07043 ],\n",
       "       [226.65598 ],\n",
       "       [227.36096 ],\n",
       "       [231.09555 ],\n",
       "       [232.99759 ],\n",
       "       [236.72473 ],\n",
       "       [238.84656 ],\n",
       "       [240.87149 ],\n",
       "       [236.76717 ],\n",
       "       [245.39687 ],\n",
       "       [247.08794 ],\n",
       "       [240.00584 ],\n",
       "       [234.28033 ],\n",
       "       [245.46344 ],\n",
       "       [243.43355 ],\n",
       "       [245.29836 ],\n",
       "       [244.5703  ],\n",
       "       [241.46649 ],\n",
       "       [246.73138 ],\n",
       "       [246.85225 ],\n",
       "       [254.9655  ],\n",
       "       [246.14966 ],\n",
       "       [252.72052 ],\n",
       "       [241.72948 ],\n",
       "       [239.46083 ],\n",
       "       [237.82477 ],\n",
       "       [242.46706 ],\n",
       "       [243.21321 ],\n",
       "       [245.79883 ],\n",
       "       [243.08922 ],\n",
       "       [242.40997 ],\n",
       "       [248.28082 ],\n",
       "       [240.96747 ],\n",
       "       [260.2344  ],\n",
       "       [249.61244 ],\n",
       "       [246.9921  ],\n",
       "       [243.19638 ],\n",
       "       [253.76501 ],\n",
       "       [249.176   ],\n",
       "       [245.58311 ],\n",
       "       [242.42938 ],\n",
       "       [237.15517 ],\n",
       "       [222.53049 ],\n",
       "       [233.44795 ],\n",
       "       [219.79082 ],\n",
       "       [218.68103 ],\n",
       "       [225.22981 ],\n",
       "       [228.01277 ],\n",
       "       [230.16216 ],\n",
       "       [219.4858  ],\n",
       "       [225.54558 ],\n",
       "       [227.00438 ],\n",
       "       [226.2921  ],\n",
       "       [231.41765 ],\n",
       "       [217.6968  ],\n",
       "       [222.20406 ],\n",
       "       [220.06421 ],\n",
       "       [225.77899 ],\n",
       "       [221.99434 ],\n",
       "       [221.84789 ],\n",
       "       [223.03828 ],\n",
       "       [218.6844  ],\n",
       "       [221.199   ],\n",
       "       [223.67943 ],\n",
       "       [224.76743 ],\n",
       "       [228.24388 ],\n",
       "       [229.38629 ],\n",
       "       [224.06134 ],\n",
       "       [220.39455 ],\n",
       "       [216.94916 ],\n",
       "       [224.56299 ],\n",
       "       [218.24983 ],\n",
       "       [221.45767 ],\n",
       "       [222.14177 ],\n",
       "       [220.083   ],\n",
       "       [223.3122  ],\n",
       "       [208.29437 ],\n",
       "       [211.82077 ],\n",
       "       [209.5056  ],\n",
       "       [212.17783 ],\n",
       "       [210.46811 ],\n",
       "       [204.5173  ],\n",
       "       [213.43512 ],\n",
       "       [222.96158 ],\n",
       "       [222.97908 ],\n",
       "       [221.10143 ],\n",
       "       [221.48827 ],\n",
       "       [221.01509 ],\n",
       "       [219.68797 ],\n",
       "       [223.03778 ],\n",
       "       [219.99211 ]], dtype=float32)"
      ]
     },
     "execution_count": 41,
     "metadata": {},
     "output_type": "execute_result"
    }
   ],
   "source": [
    "test_predicted=scaler.inverse_transform(test_predict)\n",
    "test_predicted"
   ]
  },
  {
   "cell_type": "markdown",
   "metadata": {
    "id": "zy1G8oW_y5B0"
   },
   "source": [
    "## Calculating performance"
   ]
  },
  {
   "cell_type": "code",
   "execution_count": 42,
   "metadata": {
    "id": "Mc93FwcdsUCk"
   },
   "outputs": [],
   "source": [
    "import math\n",
    "from sklearn.metrics import mean_squared_error"
   ]
  },
  {
   "cell_type": "code",
   "execution_count": 43,
   "metadata": {
    "colab": {
     "base_uri": "https://localhost:8080/"
    },
    "id": "juG_cXWQfzJ0",
    "outputId": "f425962c-d2bb-4223-b23b-7023e544dd81"
   },
   "outputs": [
    {
     "data": {
      "text/plain": [
       "0.06791797361503163"
      ]
     },
     "execution_count": 43,
     "metadata": {},
     "output_type": "execute_result"
    }
   ],
   "source": [
    "performance = math.sqrt(mean_squared_error(ytest,test_predict))\n",
    "performance"
   ]
  }
 ],
 "metadata": {
  "colab": {
   "collapsed_sections": [],
   "name": "Task 1 Stock Market Prediction And Forecasting Using Stacked LSTM.ipynb",
   "provenance": []
  },
  "kernelspec": {
   "display_name": "Python 3",
   "language": "python",
   "name": "python3"
  },
  "language_info": {
   "codemirror_mode": {
    "name": "ipython",
    "version": 3
   },
   "file_extension": ".py",
   "mimetype": "text/x-python",
   "name": "python",
   "nbconvert_exporter": "python",
   "pygments_lexer": "ipython3",
   "version": "3.8.5"
  }
 },
 "nbformat": 4,
 "nbformat_minor": 1
}
